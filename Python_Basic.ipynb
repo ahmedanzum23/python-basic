{
  "cells": [
    {
      "cell_type": "markdown",
      "metadata": {
        "id": "view-in-github",
        "colab_type": "text"
      },
      "source": [
        "<a href=\"https://colab.research.google.com/github/ahmedanzum23/python-basic/blob/main/Python_Basic.ipynb\" target=\"_parent\"><img src=\"https://colab.research.google.com/assets/colab-badge.svg\" alt=\"Open In Colab\"/></a>"
      ]
    },
    {
      "cell_type": "markdown",
      "source": [
        "**Chapter-2 (Variable and data types)**"
      ],
      "metadata": {
        "id": "lA96fGZwH3iU"
      }
    },
    {
      "cell_type": "code",
      "source": [
        "#Arethmatic operator\n",
        "a=40\n",
        "b=30\n",
        "print(' the value of a+b is', 40+30)\n",
        "print(' the value of a-b is', 40-30)\n",
        "print(' the value of a*b is', 40*30)\n",
        "print(' the value of a/b is', 40/30)"
      ],
      "metadata": {
        "colab": {
          "base_uri": "https://localhost:8080/"
        },
        "id": "U-VsJiDrlTXH",
        "outputId": "b64cba78-ebda-412b-c899-e28405f9d115"
      },
      "execution_count": 1,
      "outputs": [
        {
          "output_type": "stream",
          "name": "stdout",
          "text": [
            " the value of a+b is 70\n",
            " the value of a-b is 10\n",
            " the value of a*b is 1200\n",
            " the value of a/b is 1.3333333333333333\n"
          ]
        }
      ]
    }
  ],
  "metadata": {
    "colab": {
      "toc_visible": true,
      "provenance": [],
      "include_colab_link": true
    },
    "kernelspec": {
      "display_name": "Python 3",
      "name": "python3"
    }
  },
  "nbformat": 4,
  "nbformat_minor": 0
}