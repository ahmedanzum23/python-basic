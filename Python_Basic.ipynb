{
  "cells": [
    {
      "cell_type": "markdown",
      "metadata": {
        "id": "view-in-github",
        "colab_type": "text"
      },
      "source": [
        "<a href=\"https://colab.research.google.com/github/ahmedanzum23/python-basic/blob/main/Python_Basic.ipynb\" target=\"_parent\"><img src=\"https://colab.research.google.com/assets/colab-badge.svg\" alt=\"Open In Colab\"/></a>"
      ]
    },
    {
      "cell_type": "markdown",
      "metadata": {
        "id": "lA96fGZwH3iU"
      },
      "source": [
        "**Chapter-2 (Variable and data types)**"
      ]
    },
    {
      "cell_type": "code",
      "execution_count": null,
      "metadata": {
        "colab": {
          "base_uri": "https://localhost:8080/"
        },
        "id": "U-VsJiDrlTXH",
        "outputId": "b64cba78-ebda-412b-c899-e28405f9d115"
      },
      "outputs": [
        {
          "name": "stdout",
          "output_type": "stream",
          "text": [
            " the value of a+b is 70\n",
            " the value of a-b is 10\n",
            " the value of a*b is 1200\n",
            " the value of a/b is 1.3333333333333333\n"
          ]
        }
      ],
      "source": [
        "#Arethmatic operator\n",
        "a=40\n",
        "b=30\n",
        "print(' the value of a+b is', 40+30)\n",
        "print(' the value of a-b is', 40-30)\n",
        "print(' the value of a*b is', 40*30)\n",
        "print(' the value of a/b is', 40/30)"
      ]
    },
    {
      "cell_type": "code",
      "execution_count": null,
      "metadata": {
        "colab": {
          "base_uri": "https://localhost:8080/"
        },
        "id": "uBZKcrCrJfYl",
        "outputId": "2e5cd5fe-0441-4d18-8798-9fa9b5a4c50c"
      },
      "outputs": [
        {
          "name": "stdout",
          "output_type": "stream",
          "text": [
            "2.0\n"
          ]
        }
      ],
      "source": [
        "#assignment operations\n",
        "a=100\n",
        "a+=20\n",
        "a-=20\n",
        "a *=2\n",
        "a/=100\n",
        "\n",
        "print(a)"
      ]
    },
    {
      "cell_type": "code",
      "execution_count": null,
      "metadata": {
        "colab": {
          "base_uri": "https://localhost:8080/"
        },
        "id": "QuJkyB60Jo8E",
        "outputId": "83a3a2a0-4a27-4ace-fa1b-6e57cef329ab"
      },
      "outputs": [
        {
          "name": "stdout",
          "output_type": "stream",
          "text": [
            "False\n",
            "True\n",
            "True\n",
            "False\n",
            "True\n",
            "True\n"
          ]
        }
      ],
      "source": [
        "# **comparision**\n",
        "a=14<7\n",
        "b=14>7\n",
        "c=14>=7\n",
        "d=14<=7\n",
        "e=14==14\n",
        "f= 14!=7\n",
        "print(a)\n",
        "print(b)\n",
        "print(c)\n",
        "print(d)\n",
        "print(e)\n",
        "print(f)"
      ]
    },
    {
      "cell_type": "code",
      "execution_count": null,
      "metadata": {
        "colab": {
          "base_uri": "https://localhost:8080/"
        },
        "id": "Dg8jm53VHyXz",
        "outputId": "f621e568-a2bf-40d6-ee5a-9362ffd4d83b"
      },
      "outputs": [
        {
          "name": "stdout",
          "output_type": "stream",
          "text": [
            "the result of booleans are  False\n",
            "the result of booleans are  True\n",
            "the result of booleans are  True\n"
          ]
        }
      ],
      "source": [
        "#logical operations\n",
        "bol1= True\n",
        "bol2= False\n",
        "print('the result of booleans are ', bol1 and bol2)\n",
        "print('the result of booleans are ', bol1 or bol2)\n",
        "print('the result of booleans are ', not bol2)"
      ]
    },
    {
      "cell_type": "code",
      "execution_count": null,
      "metadata": {
        "colab": {
          "base_uri": "https://localhost:8080/"
        },
        "id": "bgGpiqe5Ixcn",
        "outputId": "8a725638-6096-4562-d5f3-e51d07f233de"
      },
      "outputs": [
        {
          "name": "stdout",
          "output_type": "stream",
          "text": [
            "200\n",
            "<class 'int'>\n",
            "19101403anzum\n",
            "<class 'str'>\n",
            "6.0\n",
            "<class 'float'>\n"
          ]
        }
      ],
      "source": [
        "#type casting (convert one formet to another like string to int)\n",
        "a='100'\n",
        "a=int(a)\n",
        "print(a+100)\n",
        "print(type(a))\n",
        "b=19101403\n",
        "b=str(b)\n",
        "print(b+'anzum')\n",
        "print(type(b))\n",
        "c=2\n",
        "c=float(c)\n",
        "print(c+4)\n",
        "print(type(c))"
      ]
    },
    {
      "cell_type": "code",
      "execution_count": null,
      "metadata": {
        "colab": {
          "base_uri": "https://localhost:8080/"
        },
        "id": "4oowLY42SQaJ",
        "outputId": "ee11d4a3-f303-4ed9-9d8b-5341f6d7d427"
      },
      "outputs": [
        {
          "name": "stdout",
          "output_type": "stream",
          "text": [
            "enter your name please  :4\n",
            "4\n"
          ]
        }
      ],
      "source": [
        "#input \n",
        "a=input('enter your name please  :', )\n",
        "a=int(a) #connvert string to int \n",
        "print(a)\n"
      ]
    },
    {
      "cell_type": "markdown",
      "metadata": {
        "id": "8ZTAqzcFdPJ2"
      },
      "source": [
        "### *Problem solving for variable and data type*\n"
      ]
    },
    {
      "cell_type": "code",
      "execution_count": null,
      "metadata": {
        "colab": {
          "base_uri": "https://localhost:8080/"
        },
        "id": "mg3Wd56icYdG",
        "outputId": "a881bfc8-d71c-4f0c-c412-d6287cf051b7"
      },
      "outputs": [
        {
          "name": "stdout",
          "output_type": "stream",
          "text": [
            "enter your first number10\n",
            "enter your second number10\n",
            "Result of your number is : 20\n"
          ]
        }
      ],
      "source": [
        "#problem solving part-1 for variable and data type chapter\n",
        "\n",
        "#write a programe for add two number\n",
        "\n",
        "a=input('enter your first number')\n",
        "a=int(a)\n",
        "b=input('enter your second number')\n",
        "b=int(b)\n",
        "print('Result of your number is :', a+b)"
      ]
    },
    {
      "cell_type": "code",
      "execution_count": null,
      "metadata": {
        "colab": {
          "base_uri": "https://localhost:8080/"
        },
        "id": "iFrB_1nLfAL0",
        "outputId": "c11f424e-2567-41f6-b25a-d1c3109b1eac"
      },
      "outputs": [
        {
          "name": "stdout",
          "output_type": "stream",
          "text": [
            "so the reminder is 10\n",
            "The result of a is : False\n",
            "enter your number2\n",
            "the result is : 4\n"
          ]
        }
      ],
      "source": [
        "#p-2\n",
        "#find a reminder when number is divided by 2\n",
        "a=10\n",
        "b=20\n",
        "number=(a%b)\n",
        "print(\"so the reminder is\", number)\n",
        "\n",
        "\n",
        "#p-3\n",
        "#find a comparision between a is greater then b or not , assume a=34 b=80\n",
        "a=34\n",
        "b=80\n",
        "print('The result of a is :', a>b)\n",
        "\n",
        "\n",
        "#p-3\n",
        "#calculate the square of a number enter by the user\n",
        "a=input('enter your number')\n",
        "a=int(a)\n",
        "\n",
        "calculate=a**a\n",
        "print('the result is :', calculate)\n",
        "\n"
      ]
    },
    {
      "cell_type": "markdown",
      "metadata": {
        "id": "HD-NG4E3IPQO"
      },
      "source": [
        "## **(Chapter-3 string)**"
      ]
    },
    {
      "cell_type": "markdown",
      "metadata": {
        "id": "7J2h-aaEcNWg"
      },
      "source": [
        "Slicing"
      ]
    },
    {
      "cell_type": "code",
      "execution_count": null,
      "metadata": {
        "colab": {
          "base_uri": "https://localhost:8080/"
        },
        "id": "RaHLd157IYbU",
        "outputId": "825f5721-e182-4bca-e642-c75b115dab11"
      },
      "outputs": [
        {
          "name": "stdout",
          "output_type": "stream",
          "text": [
            "anzum\n",
            "nzum\n",
            "anzum\n",
            "nzum\n",
            "anzu\n",
            "nah\n"
          ]
        }
      ],
      "source": [
        "name='anzum'\n",
        "print(name[0:5]) \n",
        "print(name[1:5])\n",
        "print(name[:5])\n",
        "print(name[1:])\n",
        "print(name[-5:-1])\n",
        "a='ahnafKhan'\n",
        "print(a[:5:-1])\n",
        "\n",
        "\n",
        "\n"
      ]
    },
    {
      "cell_type": "markdown",
      "metadata": {
        "id": "IMAJIe6fqL-o"
      },
      "source": [
        "String function"
      ]
    },
    {
      "cell_type": "code",
      "execution_count": null,
      "metadata": {
        "colab": {
          "base_uri": "https://localhost:8080/"
        },
        "id": "y-1VCO_JqVRi",
        "outputId": "c68dc9ba-07d6-48fc-e242-9c345cc8d8d6"
      },
      "outputs": [
        {
          "name": "stdout",
          "output_type": "stream",
          "text": [
            "46\n",
            "True\n",
            "8\n",
            "My name is ahnaf ahmed anzum. i am a superstar\n",
            "3\n",
            "my name is ahnaf ahmed roktim. I am a superstar\n"
          ]
        }
      ],
      "source": [
        "story='my name is ahnaf ahmed anzum. I am a superstar'\n",
        "print(len(story))\n",
        "print(story.endswith('superstar'))\n",
        "print(story.count('a'))\n",
        "print(story.capitalize()) #just sentence first word\n",
        "print(story.find('name'))\n",
        "print(story.replace('anzum' ,'roktim'))"
      ]
    },
    {
      "cell_type": "markdown",
      "metadata": {
        "id": "hR8ZYsMUCK1q"
      },
      "source": [
        "Escape sequence"
      ]
    },
    {
      "cell_type": "code",
      "execution_count": null,
      "metadata": {
        "colab": {
          "base_uri": "https://localhost:8080/"
        },
        "id": "DY5XjKrbCG-p",
        "outputId": "4aa7659e-811b-4e67-ebc7-7b4f1dd40e8c"
      },
      "outputs": [
        {
          "name": "stdout",
          "output_type": "stream",
          "text": [
            "my name is ahnaf ahmed anzum. \n",
            "I am a student of university and \t i am an engineering student. \\I am studying in CSE\n"
          ]
        }
      ],
      "source": [
        "s='my name is ahnaf ahmed anzum. \\nI am a student of university and \\t i am an engineering student. \\I am studying in CSE'\n",
        "print(s)"
      ]
    },
    {
      "cell_type": "markdown",
      "metadata": {
        "id": "ToeZfyCMwWjj"
      },
      "source": [
        "### ***Chapter-4 List and Tupples***"
      ]
    },
    {
      "cell_type": "code",
      "execution_count": null,
      "metadata": {
        "colab": {
          "base_uri": "https://localhost:8080/"
        },
        "id": "7eNBdKtOwlJc",
        "outputId": "bf8fafb0-0a76-4081-8766-48afc9371056"
      },
      "outputs": [
        {
          "name": "stdout",
          "output_type": "stream",
          "text": [
            "[1, 2, 3, 4, 5, 6]\n",
            "3\n",
            "[1, 50, 3, 4, 5, 6]\n",
            "['anzum', False, True, 87]\n"
          ]
        }
      ],
      "source": [
        "a=[1,2,3,4,5,6]\n",
        "print(a)\n",
        "print(a[2])\n",
        "a[1]=50\n",
        "print(a)\n",
        "#list can be any type of \n",
        "b=['anzum', False,True, 87,]\n",
        "print(b)"
      ]
    },
    {
      "cell_type": "markdown",
      "metadata": {
        "id": "Jd2IIg96VO6L"
      },
      "source": [
        "List_sort"
      ]
    },
    {
      "cell_type": "code",
      "execution_count": null,
      "metadata": {
        "colab": {
          "base_uri": "https://localhost:8080/"
        },
        "id": "ws4HUJsmeJkj",
        "outputId": "a01e7d6a-e414-418e-879e-33dd44a9bb05"
      },
      "outputs": [
        {
          "name": "stdout",
          "output_type": "stream",
          "text": [
            "[5, 10, 12, 20, 50, 60]\n",
            "[60, 50, 20, 12, 10, 5]\n",
            "[60, 50, 20, 12, 10, 5, 100]\n",
            "[200, 60, 50, 20, 12, 10, 5, 100]\n",
            "[200, 60, 20, 12, 10, 5, 100]\n",
            "[60, 20, 12, 10, 5, 100]\n"
          ]
        }
      ],
      "source": [
        "#rsort\n",
        "a=[20,50,60,10,12,5]\n",
        "a.sort()\n",
        "print(a)\n",
        "#reverse\n",
        "a.reverse()\n",
        "print(a)\n",
        "#append(end of a list)\n",
        "a.append(100)\n",
        "print(a)\n",
        "\n",
        "#insert (start from first of a list and insert at the beganning)\n",
        "a.insert(0,200)\n",
        "print(a)\n",
        "\n",
        "#pop (delete from index number)\n",
        "a.pop(2)\n",
        "print(a)\n",
        "\n",
        "#remove(remove any number randomly)\n",
        "a.remove(200)\n",
        "print(a)\n"
      ]
    },
    {
      "cell_type": "markdown",
      "metadata": {
        "id": "prQGupbAk_NK"
      },
      "source": [
        "**Tupple()**"
      ]
    },
    {
      "cell_type": "code",
      "execution_count": null,
      "metadata": {
        "colab": {
          "base_uri": "https://localhost:8080/"
        },
        "id": "6nt7r_Rtl-3a",
        "outputId": "578058d6-5364-452b-e1a3-be0220a6876d"
      },
      "outputs": [
        {
          "output_type": "stream",
          "name": "stdout",
          "text": [
            "30\n",
            "2\n",
            "3\n"
          ]
        }
      ],
      "source": [
        "a=(10,20,30,40,50,30,50)\n",
        "print(a[2])\n",
        "#we can not change anything in inside the tupple\n",
        "\n",
        "print(a.count(30)) #how many time 30 are\n",
        "print(a.index(40)) #index number of 40"
      ]
    },
    {
      "cell_type": "markdown",
      "source": [
        "*Practice problem of list*"
      ],
      "metadata": {
        "id": "2_WEbAdZ4snw"
      }
    },
    {
      "cell_type": "code",
      "source": [
        "#store 7 fruits in a list enter by the user\n",
        "a1=input('enter your fruit number')\n",
        "a2=input('enter your fruit number')\n",
        "a3=input('enter your fruit number')\n",
        "a4=input('enter your fruit number')\n",
        "a5=input('enter your fruit number')\n",
        "a6=input('enter your fruit number')\n",
        "a7=input('enter your fruit number')\n",
        "my_food=[a1,a2,a3,a4,a5,a6,a7]\n",
        "print(my_food)\n"
      ],
      "metadata": {
        "colab": {
          "base_uri": "https://localhost:8080/"
        },
        "id": "8twVbEhZ40jX",
        "outputId": "a2eb95b3-33ad-4012-b333-bef4a7cab286"
      },
      "execution_count": null,
      "outputs": [
        {
          "output_type": "stream",
          "name": "stdout",
          "text": [
            "enter your fruit numberapple\n",
            "enter your fruit numberorange\n",
            "enter your fruit numbermango\n",
            "enter your fruit numberbanana\n",
            "enter your fruit numberjackfruit\n",
            "enter your fruit numberlichi\n",
            "enter your fruit numberdragon fruit\n",
            "['apple', 'orange', 'mango', 'banana', 'jackfruit', 'lichi', 'dragon fruit']\n"
          ]
        }
      ]
    },
    {
      "cell_type": "code",
      "source": [
        "#accept marks of a four student and display them in sorted manner\n",
        "marks1=int(input('enter your first marks'))\n",
        "marks2=int(input('enter your second marks'))\n",
        "marks3=int(input('enter your third marks'))\n",
        "marks4=int(input('enter your fourth marks'))\n",
        "\n",
        "display=[marks1,marks2,marks3,marks4]\n",
        "display.sort()\n",
        "print(display)\n"
      ],
      "metadata": {
        "colab": {
          "base_uri": "https://localhost:8080/"
        },
        "id": "hnxyE-s9_qED",
        "outputId": "c15405a4-165f-4ba5-e8db-4c41d36b582e"
      },
      "execution_count": null,
      "outputs": [
        {
          "output_type": "stream",
          "name": "stdout",
          "text": [
            "enter your first marks7\n",
            "enter your second marks4\n",
            "enter your third marks0\n",
            "enter your fourth marks45\n",
            "[0, 4, 7, 45]\n"
          ]
        }
      ]
    },
    {
      "cell_type": "code",
      "source": [
        "#sun a list with 4 number\n",
        "marks1=int(input('enter your first marks'))\n",
        "marks2=int(input('enter your second marks'))\n",
        "marks3=int(input('enter your third marks'))\n",
        "marks4=int(input('enter your fourth marks'))\n",
        "\n",
        "display=[marks1+marks2+marks3+marks4]\n",
        "\n",
        "print(sum(display))\n"
      ],
      "metadata": {
        "colab": {
          "base_uri": "https://localhost:8080/"
        },
        "id": "p_MC2QmrD9Rb",
        "outputId": "f9e6af43-0f59-4b8d-9969-889fe1754264"
      },
      "execution_count": null,
      "outputs": [
        {
          "output_type": "stream",
          "name": "stdout",
          "text": [
            "enter your first marks5\n",
            "enter your second marks5\n",
            "enter your third marks5\n",
            "enter your fourth marks5\n",
            "20\n"
          ]
        }
      ]
    },
    {
      "cell_type": "code",
      "source": [
        "#find number of zero's from tupple (7,0,0,8,0,9)\n",
        "a=(7,0,0,8,0,9)\n",
        "print(a.count(0))"
      ],
      "metadata": {
        "colab": {
          "base_uri": "https://localhost:8080/"
        },
        "id": "KDdmOA1YE7DK",
        "outputId": "9bdb4ed8-401b-43ec-d33b-0ff36cc11347"
      },
      "execution_count": 1,
      "outputs": [
        {
          "output_type": "stream",
          "name": "stdout",
          "text": [
            "3\n"
          ]
        }
      ]
    }
  ],
  "metadata": {
    "colab": {
      "provenance": [],
      "toc_visible": true,
      "include_colab_link": true
    },
    "kernelspec": {
      "display_name": "Python 3",
      "name": "python3"
    }
  },
  "nbformat": 4,
  "nbformat_minor": 0
}