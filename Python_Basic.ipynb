{
  "cells": [
    {
      "cell_type": "markdown",
      "metadata": {
        "id": "view-in-github",
        "colab_type": "text"
      },
      "source": [
        "<a href=\"https://colab.research.google.com/github/ahmedanzum23/python-basic/blob/main/Python_Basic.ipynb\" target=\"_parent\"><img src=\"https://colab.research.google.com/assets/colab-badge.svg\" alt=\"Open In Colab\"/></a>"
      ]
    },
    {
      "cell_type": "markdown",
      "metadata": {
        "id": "lA96fGZwH3iU"
      },
      "source": [
        "**Chapter-2 (Variable and data types)**"
      ]
    },
    {
      "cell_type": "markdown",
      "source": [],
      "metadata": {
        "id": "Nntq952LAYh_"
      }
    },
    {
      "cell_type": "code",
      "execution_count": null,
      "metadata": {
        "colab": {
          "base_uri": "https://localhost:8080/"
        },
        "id": "U-VsJiDrlTXH",
        "outputId": "b64cba78-ebda-412b-c899-e28405f9d115"
      },
      "outputs": [
        {
          "name": "stdout",
          "output_type": "stream",
          "text": [
            " the value of a+b is 70\n",
            " the value of a-b is 10\n",
            " the value of a*b is 1200\n",
            " the value of a/b is 1.3333333333333333\n"
          ]
        }
      ],
      "source": [
        "#Arethmatic operator\n",
        "a=40\n",
        "b=30\n",
        "print(' the value of a+b is', 40+30)\n",
        "print(' the value of a-b is', 40-30)\n",
        "print(' the value of a*b is', 40*30)\n",
        "print(' the value of a/b is', 40/30)"
      ]
    },
    {
      "cell_type": "code",
      "execution_count": null,
      "metadata": {
        "colab": {
          "base_uri": "https://localhost:8080/"
        },
        "id": "uBZKcrCrJfYl",
        "outputId": "2e5cd5fe-0441-4d18-8798-9fa9b5a4c50c"
      },
      "outputs": [
        {
          "name": "stdout",
          "output_type": "stream",
          "text": [
            "2.0\n"
          ]
        }
      ],
      "source": [
        "#assignment operations\n",
        "a=100\n",
        "a+=20\n",
        "a-=20\n",
        "a *=2\n",
        "a/=100\n",
        "\n",
        "print(a)"
      ]
    },
    {
      "cell_type": "code",
      "execution_count": null,
      "metadata": {
        "colab": {
          "base_uri": "https://localhost:8080/"
        },
        "id": "QuJkyB60Jo8E",
        "outputId": "83a3a2a0-4a27-4ace-fa1b-6e57cef329ab"
      },
      "outputs": [
        {
          "name": "stdout",
          "output_type": "stream",
          "text": [
            "False\n",
            "True\n",
            "True\n",
            "False\n",
            "True\n",
            "True\n"
          ]
        }
      ],
      "source": [
        "# **comparision**\n",
        "a=14<7\n",
        "b=14>7\n",
        "c=14>=7\n",
        "d=14<=7\n",
        "e=14==14\n",
        "f= 14!=7\n",
        "print(a)\n",
        "print(b)\n",
        "print(c)\n",
        "print(d)\n",
        "print(e)\n",
        "print(f)"
      ]
    },
    {
      "cell_type": "code",
      "execution_count": null,
      "metadata": {
        "colab": {
          "base_uri": "https://localhost:8080/"
        },
        "id": "Dg8jm53VHyXz",
        "outputId": "f621e568-a2bf-40d6-ee5a-9362ffd4d83b"
      },
      "outputs": [
        {
          "name": "stdout",
          "output_type": "stream",
          "text": [
            "the result of booleans are  False\n",
            "the result of booleans are  True\n",
            "the result of booleans are  True\n"
          ]
        }
      ],
      "source": [
        "#logical operations\n",
        "bol1= True\n",
        "bol2= False\n",
        "print('the result of booleans are ', bol1 and bol2)\n",
        "print('the result of booleans are ', bol1 or bol2)\n",
        "print('the result of booleans are ', not bol2)"
      ]
    },
    {
      "cell_type": "code",
      "execution_count": null,
      "metadata": {
        "colab": {
          "base_uri": "https://localhost:8080/"
        },
        "id": "bgGpiqe5Ixcn",
        "outputId": "8a725638-6096-4562-d5f3-e51d07f233de"
      },
      "outputs": [
        {
          "name": "stdout",
          "output_type": "stream",
          "text": [
            "200\n",
            "<class 'int'>\n",
            "19101403anzum\n",
            "<class 'str'>\n",
            "6.0\n",
            "<class 'float'>\n"
          ]
        }
      ],
      "source": [
        "#type casting (convert one formet to another like string to int)\n",
        "a='100'\n",
        "a=int(a)\n",
        "print(a+100)\n",
        "print(type(a))\n",
        "b=19101403\n",
        "b=str(b)\n",
        "print(b+'anzum')\n",
        "print(type(b))\n",
        "c=2\n",
        "c=float(c)\n",
        "print(c+4)\n",
        "print(type(c))"
      ]
    },
    {
      "cell_type": "code",
      "execution_count": null,
      "metadata": {
        "colab": {
          "base_uri": "https://localhost:8080/"
        },
        "id": "4oowLY42SQaJ",
        "outputId": "ee11d4a3-f303-4ed9-9d8b-5341f6d7d427"
      },
      "outputs": [
        {
          "name": "stdout",
          "output_type": "stream",
          "text": [
            "enter your name please  :4\n",
            "4\n"
          ]
        }
      ],
      "source": [
        "#input \n",
        "a=input('enter your name please  :', )\n",
        "a=int(a) #connvert string to int \n",
        "print(a)\n"
      ]
    },
    {
      "cell_type": "markdown",
      "metadata": {
        "id": "8ZTAqzcFdPJ2"
      },
      "source": [
        "### *Problem solving for variable and data type*\n"
      ]
    },
    {
      "cell_type": "code",
      "execution_count": null,
      "metadata": {
        "colab": {
          "base_uri": "https://localhost:8080/"
        },
        "id": "mg3Wd56icYdG",
        "outputId": "a881bfc8-d71c-4f0c-c412-d6287cf051b7"
      },
      "outputs": [
        {
          "name": "stdout",
          "output_type": "stream",
          "text": [
            "enter your first number10\n",
            "enter your second number10\n",
            "Result of your number is : 20\n"
          ]
        }
      ],
      "source": [
        "#problem solving part-1 for variable and data type chapter\n",
        "\n",
        "#write a programe for add two number\n",
        "\n",
        "a=input('enter your first number')\n",
        "a=int(a)\n",
        "b=input('enter your second number')\n",
        "b=int(b)\n",
        "print('Result of your number is :', a+b)"
      ]
    },
    {
      "cell_type": "code",
      "execution_count": null,
      "metadata": {
        "colab": {
          "base_uri": "https://localhost:8080/"
        },
        "id": "iFrB_1nLfAL0",
        "outputId": "c11f424e-2567-41f6-b25a-d1c3109b1eac"
      },
      "outputs": [
        {
          "name": "stdout",
          "output_type": "stream",
          "text": [
            "so the reminder is 10\n",
            "The result of a is : False\n",
            "enter your number2\n",
            "the result is : 4\n"
          ]
        }
      ],
      "source": [
        "#p-2\n",
        "#find a reminder when number is divided by 2\n",
        "a=10\n",
        "b=20\n",
        "number=(a%b)\n",
        "print(\"so the reminder is\", number)\n",
        "\n",
        "\n",
        "#p-3\n",
        "#find a comparision between a is greater then b or not , assume a=34 b=80\n",
        "a=34\n",
        "b=80\n",
        "print('The result of a is :', a>b)\n",
        "\n",
        "\n",
        "#p-3\n",
        "#calculate the square of a number enter by the user\n",
        "a=input('enter your number')\n",
        "a=int(a)\n",
        "\n",
        "calculate=a**a\n",
        "print('the result is :', calculate)\n",
        "\n"
      ]
    },
    {
      "cell_type": "markdown",
      "metadata": {
        "id": "HD-NG4E3IPQO"
      },
      "source": [
        "## **(Chapter-3 string)**"
      ]
    },
    {
      "cell_type": "markdown",
      "metadata": {
        "id": "7J2h-aaEcNWg"
      },
      "source": [
        "Slicing"
      ]
    },
    {
      "cell_type": "code",
      "execution_count": null,
      "metadata": {
        "colab": {
          "base_uri": "https://localhost:8080/"
        },
        "id": "RaHLd157IYbU",
        "outputId": "825f5721-e182-4bca-e642-c75b115dab11"
      },
      "outputs": [
        {
          "name": "stdout",
          "output_type": "stream",
          "text": [
            "anzum\n",
            "nzum\n",
            "anzum\n",
            "nzum\n",
            "anzu\n",
            "nah\n"
          ]
        }
      ],
      "source": [
        "name='anzum'\n",
        "print(name[0:5]) \n",
        "print(name[1:5])\n",
        "print(name[:5])\n",
        "print(name[1:])\n",
        "print(name[-5:-1])\n",
        "a='ahnafKhan'\n",
        "print(a[:5:-1])\n",
        "\n",
        "\n",
        "\n"
      ]
    },
    {
      "cell_type": "markdown",
      "metadata": {
        "id": "IMAJIe6fqL-o"
      },
      "source": [
        "String function"
      ]
    },
    {
      "cell_type": "code",
      "execution_count": null,
      "metadata": {
        "colab": {
          "base_uri": "https://localhost:8080/"
        },
        "id": "y-1VCO_JqVRi",
        "outputId": "c68dc9ba-07d6-48fc-e242-9c345cc8d8d6"
      },
      "outputs": [
        {
          "name": "stdout",
          "output_type": "stream",
          "text": [
            "46\n",
            "True\n",
            "8\n",
            "My name is ahnaf ahmed anzum. i am a superstar\n",
            "3\n",
            "my name is ahnaf ahmed roktim. I am a superstar\n"
          ]
        }
      ],
      "source": [
        "story='my name is ahnaf ahmed anzum. I am a superstar'\n",
        "print(len(story))\n",
        "print(story.endswith('superstar'))\n",
        "print(story.count('a'))\n",
        "print(story.capitalize()) #just sentence first word\n",
        "print(story.find('name'))\n",
        "print(story.replace('anzum' ,'roktim'))"
      ]
    },
    {
      "cell_type": "markdown",
      "metadata": {
        "id": "hR8ZYsMUCK1q"
      },
      "source": [
        "Escape sequence"
      ]
    },
    {
      "cell_type": "code",
      "execution_count": null,
      "metadata": {
        "colab": {
          "base_uri": "https://localhost:8080/"
        },
        "id": "DY5XjKrbCG-p",
        "outputId": "4aa7659e-811b-4e67-ebc7-7b4f1dd40e8c"
      },
      "outputs": [
        {
          "name": "stdout",
          "output_type": "stream",
          "text": [
            "my name is ahnaf ahmed anzum. \n",
            "I am a student of university and \t i am an engineering student. \\I am studying in CSE\n"
          ]
        }
      ],
      "source": [
        "s='my name is ahnaf ahmed anzum. \\nI am a student of university and \\t i am an engineering student. \\I am studying in CSE'\n",
        "print(s)"
      ]
    },
    {
      "cell_type": "markdown",
      "metadata": {
        "id": "ToeZfyCMwWjj"
      },
      "source": [
        "### ***Chapter-4 List and Tupples***"
      ]
    },
    {
      "cell_type": "code",
      "execution_count": null,
      "metadata": {
        "colab": {
          "base_uri": "https://localhost:8080/"
        },
        "id": "7eNBdKtOwlJc",
        "outputId": "bf8fafb0-0a76-4081-8766-48afc9371056"
      },
      "outputs": [
        {
          "name": "stdout",
          "output_type": "stream",
          "text": [
            "[1, 2, 3, 4, 5, 6]\n",
            "3\n",
            "[1, 50, 3, 4, 5, 6]\n",
            "['anzum', False, True, 87]\n"
          ]
        }
      ],
      "source": [
        "a=[1,2,3,4,5,6]\n",
        "print(a)\n",
        "print(a[2])\n",
        "a[1]=50\n",
        "print(a)\n",
        "#list can be any type of \n",
        "b=['anzum', False,True, 87,]\n",
        "print(b)"
      ]
    },
    {
      "cell_type": "markdown",
      "metadata": {
        "id": "Jd2IIg96VO6L"
      },
      "source": [
        "List_sort"
      ]
    },
    {
      "cell_type": "code",
      "execution_count": null,
      "metadata": {
        "colab": {
          "base_uri": "https://localhost:8080/"
        },
        "id": "ws4HUJsmeJkj",
        "outputId": "a01e7d6a-e414-418e-879e-33dd44a9bb05"
      },
      "outputs": [
        {
          "name": "stdout",
          "output_type": "stream",
          "text": [
            "[5, 10, 12, 20, 50, 60]\n",
            "[60, 50, 20, 12, 10, 5]\n",
            "[60, 50, 20, 12, 10, 5, 100]\n",
            "[200, 60, 50, 20, 12, 10, 5, 100]\n",
            "[200, 60, 20, 12, 10, 5, 100]\n",
            "[60, 20, 12, 10, 5, 100]\n"
          ]
        }
      ],
      "source": [
        "#rsort\n",
        "a=[20,50,60,10,12,5]\n",
        "a.sort()\n",
        "print(a)\n",
        "#reverse\n",
        "a.reverse()\n",
        "print(a)\n",
        "#append(end of a list)\n",
        "a.append(100)\n",
        "print(a)\n",
        "\n",
        "#insert (start from first of a list and insert at the beganning)\n",
        "a.insert(0,200)\n",
        "print(a)\n",
        "\n",
        "#pop (delete from index number)\n",
        "a.pop(2)\n",
        "print(a)\n",
        "\n",
        "#remove(remove any number randomly)\n",
        "a.remove(200)\n",
        "print(a)\n"
      ]
    },
    {
      "cell_type": "markdown",
      "metadata": {
        "id": "prQGupbAk_NK"
      },
      "source": [
        "**Tupple()**"
      ]
    },
    {
      "cell_type": "code",
      "execution_count": null,
      "metadata": {
        "colab": {
          "base_uri": "https://localhost:8080/"
        },
        "id": "6nt7r_Rtl-3a",
        "outputId": "578058d6-5364-452b-e1a3-be0220a6876d"
      },
      "outputs": [
        {
          "output_type": "stream",
          "name": "stdout",
          "text": [
            "30\n",
            "2\n",
            "3\n"
          ]
        }
      ],
      "source": [
        "a=(10,20,30,40,50,30,50)\n",
        "print(a[2])\n",
        "#we can not change anything in inside the tupple\n",
        "\n",
        "print(a.count(30)) #how many time 30 are\n",
        "print(a.index(40)) #index number of 40"
      ]
    },
    {
      "cell_type": "markdown",
      "source": [
        "*Practice problem of list*"
      ],
      "metadata": {
        "id": "2_WEbAdZ4snw"
      }
    },
    {
      "cell_type": "code",
      "source": [
        "#store 7 fruits in a list enter by the user\n",
        "a1=input('enter your fruit number')\n",
        "a2=input('enter your fruit number')\n",
        "a3=input('enter your fruit number')\n",
        "a4=input('enter your fruit number')\n",
        "a5=input('enter your fruit number')\n",
        "a6=input('enter your fruit number')\n",
        "a7=input('enter your fruit number')\n",
        "my_food=[a1,a2,a3,a4,a5,a6,a7]\n",
        "print(my_food)\n"
      ],
      "metadata": {
        "colab": {
          "base_uri": "https://localhost:8080/"
        },
        "id": "8twVbEhZ40jX",
        "outputId": "a2eb95b3-33ad-4012-b333-bef4a7cab286"
      },
      "execution_count": null,
      "outputs": [
        {
          "output_type": "stream",
          "name": "stdout",
          "text": [
            "enter your fruit numberapple\n",
            "enter your fruit numberorange\n",
            "enter your fruit numbermango\n",
            "enter your fruit numberbanana\n",
            "enter your fruit numberjackfruit\n",
            "enter your fruit numberlichi\n",
            "enter your fruit numberdragon fruit\n",
            "['apple', 'orange', 'mango', 'banana', 'jackfruit', 'lichi', 'dragon fruit']\n"
          ]
        }
      ]
    },
    {
      "cell_type": "code",
      "source": [
        "#accept marks of a four student and display them in sorted manner\n",
        "marks1=int(input('enter your first marks'))\n",
        "marks2=int(input('enter your second marks'))\n",
        "marks3=int(input('enter your third marks'))\n",
        "marks4=int(input('enter your fourth marks'))\n",
        "\n",
        "display=[marks1,marks2,marks3,marks4]\n",
        "display.sort()\n",
        "print(display)\n"
      ],
      "metadata": {
        "colab": {
          "base_uri": "https://localhost:8080/"
        },
        "id": "hnxyE-s9_qED",
        "outputId": "c15405a4-165f-4ba5-e8db-4c41d36b582e"
      },
      "execution_count": null,
      "outputs": [
        {
          "output_type": "stream",
          "name": "stdout",
          "text": [
            "enter your first marks7\n",
            "enter your second marks4\n",
            "enter your third marks0\n",
            "enter your fourth marks45\n",
            "[0, 4, 7, 45]\n"
          ]
        }
      ]
    },
    {
      "cell_type": "code",
      "source": [
        "#sun a list with 4 number\n",
        "marks1=int(input('enter your first marks'))\n",
        "marks2=int(input('enter your second marks'))\n",
        "marks3=int(input('enter your third marks'))\n",
        "marks4=int(input('enter your fourth marks'))\n",
        "\n",
        "display=[marks1+marks2+marks3+marks4]\n",
        "\n",
        "print(sum(display))\n"
      ],
      "metadata": {
        "colab": {
          "base_uri": "https://localhost:8080/"
        },
        "id": "p_MC2QmrD9Rb",
        "outputId": "f9e6af43-0f59-4b8d-9969-889fe1754264"
      },
      "execution_count": null,
      "outputs": [
        {
          "output_type": "stream",
          "name": "stdout",
          "text": [
            "enter your first marks5\n",
            "enter your second marks5\n",
            "enter your third marks5\n",
            "enter your fourth marks5\n",
            "20\n"
          ]
        }
      ]
    },
    {
      "cell_type": "code",
      "source": [
        "#find number of zero's from tupple (7,0,0,8,0,9)\n",
        "a=(7,0,0,8,0,9)\n",
        "print(a.count(0))"
      ],
      "metadata": {
        "colab": {
          "base_uri": "https://localhost:8080/"
        },
        "id": "KDdmOA1YE7DK",
        "outputId": "4221edec-842c-49e1-8117-e456be3e9e52"
      },
      "execution_count": null,
      "outputs": [
        {
          "output_type": "stream",
          "name": "stdout",
          "text": [
            "3\n"
          ]
        }
      ]
    },
    {
      "cell_type": "markdown",
      "source": [
        "### ***Chapter-5 (Dictanory)***"
      ],
      "metadata": {
        "id": "ctYYktdqVo-j"
      }
    },
    {
      "cell_type": "code",
      "source": [
        "a={ \"name\":\"Ahnaf Ahmed Anzum\",\n",
        "     \"id\" :\"19101403\",\n",
        "    \"section\":\"05\",\n",
        "    'marks':[5,7,8,10,12,15]\n",
        "\n",
        "}\n",
        "\n",
        "b={\n",
        "    \n",
        "    'name':\"ahnaf ahmed roktim\",\n",
        "    'id'  :'22341086',\n",
        "    'section':\"science-b\",\n",
        "    'robot': {'2.50' : 'oktim'}\n",
        "}\n",
        "print(a['id'])\n",
        "print(a['marks'])\n",
        "print(b['section'])\n",
        "print(b['robot']['2.50'])\n",
        "#we can change the dictanory also\n",
        "\n",
        "a['marks']=[400,500]\n",
        "print(a['marks'])"
      ],
      "metadata": {
        "id": "B6kAv_DuV1ej",
        "colab": {
          "base_uri": "https://localhost:8080/"
        },
        "outputId": "b32b65a1-9a28-4e7a-8407-0bd4541ba48d"
      },
      "execution_count": null,
      "outputs": [
        {
          "output_type": "stream",
          "name": "stdout",
          "text": [
            "19101403\n",
            "[5, 7, 8, 10, 12, 15]\n",
            "science-b\n",
            "oktim\n",
            "[400, 500]\n"
          ]
        }
      ]
    },
    {
      "cell_type": "code",
      "source": [
        "# dictanory other values \n",
        "\n",
        "#key values\n",
        "a={\n",
        "    'movie': 'name:tytanic',\n",
        "    'genre':'romantic',\n",
        "    'release':'1999',\n",
        "    'status':'successful',\n",
        "     100:200\n",
        "}\n",
        "\n",
        "print(a.keys())\n",
        "#type of dic\n",
        "print(type(a))\n",
        "\n",
        "#convert dictanory to list\n",
        "print(list(a))\n",
        "print(list(a.keys()))\n",
        "\n",
        "#print the values\n",
        "print(a.values())\n",
        "\n",
        "#print the items\n",
        "print(a.items())\n",
        "\n",
        "\n",
        "#print update the dictanory\n",
        "\n",
        "updateDic={\n",
        "    'langauge ': 'English',\n",
        "    'movie' : 'Titanic'\n",
        "}\n",
        "a.update(updateDic)\n",
        "print(a)\n",
        "\n",
        "\n"
      ],
      "metadata": {
        "colab": {
          "base_uri": "https://localhost:8080/"
        },
        "id": "pItUjNdLNJr_",
        "outputId": "a9c1fe7c-8dfc-4843-c8cf-c264c9918756"
      },
      "execution_count": null,
      "outputs": [
        {
          "output_type": "stream",
          "name": "stdout",
          "text": [
            "dict_keys(['movie', 'genre', 'release', 'status', 100])\n",
            "<class 'dict'>\n",
            "['movie', 'genre', 'release', 'status', 100]\n",
            "['movie', 'genre', 'release', 'status', 100]\n",
            "dict_values(['name:tytanic', 'romantic', '1999', 'successful', 200])\n",
            "dict_items([('movie', 'name:tytanic'), ('genre', 'romantic'), ('release', '1999'), ('status', 'successful'), (100, 200)])\n",
            "{'movie': 'Titanic', 'genre': 'romantic', 'release': '1999', 'status': 'successful', 100: 200, 'langauge ': 'English'}\n"
          ]
        }
      ]
    },
    {
      "cell_type": "code",
      "source": [
        "#get vs []\n",
        "a= {'movie': 'name:tytanic',\n",
        "    'genre':'romantic',\n",
        "    'release':'1999',\n",
        "    'status':'successful',\n",
        "     100:200\n",
        "}\n",
        "print(a.get('movie'))\n"
      ],
      "metadata": {
        "colab": {
          "base_uri": "https://localhost:8080/"
        },
        "id": "4z6W839Olnaj",
        "outputId": "413a1dce-0b09-4876-f53d-800d8988b110"
      },
      "execution_count": null,
      "outputs": [
        {
          "output_type": "stream",
          "name": "stdout",
          "text": [
            "name:tytanic\n"
          ]
        }
      ]
    },
    {
      "cell_type": "markdown",
      "source": [
        "Sets in Dictanory"
      ],
      "metadata": {
        "id": "Ww3wsMMXndGl"
      }
    },
    {
      "cell_type": "code",
      "source": [
        "a={10,20,30,40,50,50}\n",
        "print(type(a))\n",
        "print(a) #set doest not allow repeatative values of print a\n",
        "\n",
        "\n",
        "#empty dictanory\n",
        "c={}\n",
        "print(c)\n",
        "print(type(c))\n",
        "\n",
        "#empty set \n",
        "b=set()\n",
        "print(b)\n",
        "\n",
        "b.add(8)\n",
        "b.add(9)\n",
        "b.add(10)\n",
        "#can not add list  on sets\n",
        "   #b.add([10,20,30])\n",
        "#you can add list on tupple\n",
        "b.add((10,20,30,40))\n",
        "# you can not dictanory on set\n",
        "  #b.add({5:10})\n",
        "print(b)"
      ],
      "metadata": {
        "colab": {
          "base_uri": "https://localhost:8080/"
        },
        "id": "LVbN_rs8nanB",
        "outputId": "2a65e937-4fc0-4f59-831f-c0dc72ff668b"
      },
      "execution_count": null,
      "outputs": [
        {
          "output_type": "stream",
          "name": "stdout",
          "text": [
            "<class 'set'>\n",
            "{40, 10, 50, 20, 30}\n",
            "{}\n",
            "<class 'dict'>\n",
            "set()\n",
            "{8, 9, 10, (10, 20, 30, 40)}\n"
          ]
        }
      ]
    },
    {
      "cell_type": "markdown",
      "source": [
        "more set methods"
      ],
      "metadata": {
        "id": "4MwNSiV-1A78"
      }
    },
    {
      "cell_type": "code",
      "source": [
        "e={10,20,30,40,50,60}\n",
        "print(e)\n",
        "(e.remove(60))\n",
        "print(e)\n",
        "e.pop() #remove any rendom number\n",
        "print (e)\n"
      ],
      "metadata": {
        "colab": {
          "base_uri": "https://localhost:8080/"
        },
        "id": "2Wgex2Y71Gw5",
        "outputId": "b85f11ff-c5ee-4273-fbc3-231e6b4993d0"
      },
      "execution_count": null,
      "outputs": [
        {
          "output_type": "stream",
          "name": "stdout",
          "text": [
            "{40, 10, 50, 20, 60, 30}\n",
            "{40, 10, 50, 20, 30}\n",
            "{10, 50, 20, 30}\n"
          ]
        }
      ]
    },
    {
      "cell_type": "markdown",
      "source": [
        "*Practice  dectaniory*"
      ],
      "metadata": {
        "id": "AC6MoEUD44Qh"
      }
    },
    {
      "cell_type": "code",
      "source": [
        "#see you letter"
      ],
      "metadata": {
        "id": "rQ1KF2Gu5AzK"
      },
      "execution_count": null,
      "outputs": []
    },
    {
      "cell_type": "markdown",
      "source": [
        "## ***Chapter-6(condition)***"
      ],
      "metadata": {
        "id": "dE7xn7KrW1b7"
      }
    },
    {
      "cell_type": "code",
      "source": [
        "a=100\n",
        "if(a>50):\n",
        "  print('a is greater then 90')\n",
        "elif(a>90):\n",
        "  print(' the value of a is also greater then a')\n",
        "else:\n",
        "    print('the value is picccih forever')"
      ],
      "metadata": {
        "colab": {
          "base_uri": "https://localhost:8080/"
        },
        "id": "OLSCY35sW_8o",
        "outputId": "d0e3f12b-6bf8-4feb-dfc1-a9efa440085d"
      },
      "execution_count": null,
      "outputs": [
        {
          "output_type": "stream",
          "name": "stdout",
          "text": [
            "a is greater then 90\n"
          ]
        }
      ]
    },
    {
      "cell_type": "code",
      "source": [
        "a=100\n",
        "if(a>50):\n",
        "  print('a is greater then 90')\n",
        "if(a>90):\n",
        "  print(' the value of a is also greater then a')\n",
        "elif(a>95):\n",
        "  print(' the value is also 95 which is greater then 95')  \n",
        "else:\n",
        "    print('the value is picccih forever')"
      ],
      "metadata": {
        "colab": {
          "base_uri": "https://localhost:8080/"
        },
        "outputId": "90584254-7986-4cf5-f133-6e4521f39ce1",
        "id": "VLrvMwXgjB3u"
      },
      "execution_count": null,
      "outputs": [
        {
          "output_type": "stream",
          "name": "stdout",
          "text": [
            "a is greater then 90\n",
            " the value of a is also greater then a\n"
          ]
        }
      ]
    },
    {
      "cell_type": "code",
      "source": [
        "a=int(input('enter your age bro'))\n",
        "if (a>18):\n",
        "  print('you are adult')\n",
        "else:\n",
        "  print('You are peccih baccah')  "
      ],
      "metadata": {
        "colab": {
          "base_uri": "https://localhost:8080/"
        },
        "id": "36QEs1Hgm68o",
        "outputId": "feac69ff-0d56-4ebb-9b5d-94988a911ac5"
      },
      "execution_count": null,
      "outputs": [
        {
          "output_type": "stream",
          "name": "stdout",
          "text": [
            "enter your age bro17\n",
            "You are peccih baccah\n"
          ]
        }
      ]
    },
    {
      "cell_type": "code",
      "source": [
        "#logical and relational operations\n",
        "ok=int(input('enter your age please '))\n",
        "if (ok<50 and ok <60):\n",
        "  print('you are pass some how man')\n",
        "else:\n",
        "  print('you are failled man')  "
      ],
      "metadata": {
        "colab": {
          "base_uri": "https://localhost:8080/"
        },
        "id": "-j4BYdtMqmLa",
        "outputId": "766f6fa9-6992-4fbb-d3ba-2c711abdffdb"
      },
      "execution_count": null,
      "outputs": [
        {
          "output_type": "stream",
          "name": "stdout",
          "text": [
            "enter your age please 55\n",
            "you are failled man\n"
          ]
        }
      ]
    },
    {
      "cell_type": "code",
      "source": [
        "#logical and relational operations\n",
        "ok=int(input('enter your age please '))\n",
        "if (ok<50 or ok <60):\n",
        "  print('you are pass some how man')\n",
        "else:\n",
        "  print('you are failled man')  "
      ],
      "metadata": {
        "colab": {
          "base_uri": "https://localhost:8080/"
        },
        "id": "veotyQ9Zrdmh",
        "outputId": "1133d8ef-2b53-40ba-bc5e-d7afd54bcd05"
      },
      "execution_count": null,
      "outputs": [
        {
          "output_type": "stream",
          "name": "stdout",
          "text": [
            "enter your age please 55\n",
            "you are pass some how man\n"
          ]
        }
      ]
    },
    {
      "cell_type": "code",
      "source": [
        "#in is \n",
        "\n",
        "a=None\n",
        "if(a is None):\n",
        "  print(a)\n",
        "else:\n",
        "   print('you are laier') \n",
        "\n",
        "\n",
        "b=[10,20,30,40,50]\n",
        "print(10 in b)\n"
      ],
      "metadata": {
        "colab": {
          "base_uri": "https://localhost:8080/"
        },
        "id": "pB80lm29sY8K",
        "outputId": "3c9e5035-bdb0-4ceb-ea7a-6cb3ee59f224"
      },
      "execution_count": null,
      "outputs": [
        {
          "output_type": "stream",
          "name": "stdout",
          "text": [
            "None\n",
            "True\n"
          ]
        }
      ]
    },
    {
      "cell_type": "markdown",
      "source": [
        "**Practice exersice on Conditional**"
      ],
      "metadata": {
        "id": "XPHxK-LtFIB4"
      }
    },
    {
      "cell_type": "code",
      "source": [
        "#take 4 input from the user and find the Greatest number among 4 number\n",
        "\n",
        "num1=int(input('enter your first number'))\n",
        "num2=int(input('enter your second number'))\n",
        "num3=int(input('enter your Third number'))\n",
        "num4=int(input('enter your Fourth number'))\n",
        "\n",
        "if (num1>num4):\n",
        "  f1=num1\n",
        "else:\n",
        "  f1=num4\n",
        "if(num2>num3):\n",
        "  f2=num2\n",
        "else:\n",
        "  f2=num3\n",
        "if(f1>f2):\n",
        "  print(str(f1)+ ' is a greatest number')\n",
        "else:\n",
        "  print(str(f2)+ ' is a greatest number')          "
      ],
      "metadata": {
        "colab": {
          "base_uri": "https://localhost:8080/"
        },
        "id": "98-O7w5eFQel",
        "outputId": "79a03f30-c3a6-408a-82bd-950a32a38dc0"
      },
      "execution_count": null,
      "outputs": [
        {
          "output_type": "stream",
          "name": "stdout",
          "text": [
            "enter your first number20\n",
            "enter your second number30\n",
            "enter your Third number40\n",
            "enter your Fourth number50\n",
            "50 is a greatest number\n"
          ]
        }
      ]
    },
    {
      "cell_type": "code",
      "source": [
        "#input 3 subject number , every subjet number must be more then 33 otherwise failled and avaerage of 3 number must be more then 40% other wise failed, after fullfilled two conditions you are passed\n",
        "\n",
        "\n",
        "num1=int(input('enter your first number'))\n",
        "num2=int(input('enter your second number'))\n",
        "num3=int(input('enter your Third number'))\n",
        "\n",
        "if(num1<33 or num2<33 or num3<33):\n",
        "\n",
        "  print(' you are failed because your marks less then 33')\n",
        "\n",
        "elif(num1+num2+num3)/3<40:\n",
        "  print('you are failed your marks is less then 40%')\n",
        "\n",
        "else:\n",
        "  print('Congratulations !  you have passed successfully ')"
      ],
      "metadata": {
        "colab": {
          "base_uri": "https://localhost:8080/"
        },
        "id": "M0AGjOKLNpoG",
        "outputId": "e279613e-5a86-4b76-94d3-53c6f4c9d001"
      },
      "execution_count": null,
      "outputs": [
        {
          "output_type": "stream",
          "name": "stdout",
          "text": [
            "enter your first number35\n",
            "enter your second number35\n",
            "enter your Third number35\n",
            "you are failed your marks is less then 40%\n"
          ]
        }
      ]
    },
    {
      "cell_type": "code",
      "source": [
        "# make a programe related spam and do the job\n",
        "\n",
        "text=input('enter your number')\n",
        "\n",
        "if('i am anzum' in text):\n",
        "  enter=True\n",
        "elif('i am a superstar' in text):\n",
        "  enter=True\n",
        "elif('i live in Dhaka' in text):\n",
        "  enter=True\n",
        "\n",
        "else:\n",
        "   spam=False\n",
        "   print(' your input number is false')\n",
        "\n",
        "if(enter):\n",
        "  print('this is a spam')\n",
        "else:\n",
        " print('this is not a spam')       \n"
      ],
      "metadata": {
        "colab": {
          "base_uri": "https://localhost:8080/"
        },
        "id": "A_TiuKSqU_BV",
        "outputId": "cd71b4a3-778d-4ca1-d1da-fa972a0acdd7"
      },
      "execution_count": null,
      "outputs": [
        {
          "output_type": "stream",
          "name": "stdout",
          "text": [
            "enter your numberi am anzum\n",
            "this is a spam\n"
          ]
        }
      ]
    },
    {
      "cell_type": "code",
      "source": [
        "#write e programe that given charecter is more then 10 or not\n",
        "\n",
        "a=(\"ahnafahmedanzum\")\n",
        "a=str(a)\n",
        "if(a==10):\n",
        "  print('word is less then 10')\n",
        "else:\n",
        "  print('word is more  then 10')    "
      ],
      "metadata": {
        "id": "qcCtrQnCYumm",
        "colab": {
          "base_uri": "https://localhost:8080/"
        },
        "outputId": "3cdcfe87-81f7-4b90-bdea-ee542f824e96"
      },
      "execution_count": null,
      "outputs": [
        {
          "output_type": "stream",
          "name": "stdout",
          "text": [
            "word is more  then 10\n"
          ]
        }
      ]
    },
    {
      "cell_type": "code",
      "source": [
        "#write a programe that enter number is present in the list or not\n",
        "a=[10,20,30,40,50,60]\n",
        "b=int(input('enter your number'))\n",
        "\n",
        "if (b in a):\n",
        "  print('your enter number is present')\n",
        "else:\n",
        "  print('your enter number is not present')  "
      ],
      "metadata": {
        "colab": {
          "base_uri": "https://localhost:8080/"
        },
        "id": "dUSpBRYjCaCn",
        "outputId": "78df4c95-0da4-4895-c2b7-8aa09c49c87e"
      },
      "execution_count": null,
      "outputs": [
        {
          "output_type": "stream",
          "name": "stdout",
          "text": [
            "enter your number40\n",
            "your enter number is present\n"
          ]
        }
      ]
    },
    {
      "cell_type": "code",
      "source": [
        "#write e  programe enter greeding system of Brac university\n",
        "\n",
        "number=int(input('enter your marks'))\n",
        "\n",
        "if(90>=number):\n",
        "    print(\" your desire Grade is good A\" )    \n",
        "\n",
        "elif(80>=number):\n",
        "    print(\" your desire Grade is B\" )    \n",
        "elif(70>number):\n",
        "    print(\" your desire Grade is c\" )    \n",
        "\n",
        "elif(60>number):\n",
        "    print(\" your desire Grade is D\" )    \n",
        "\n",
        "\n",
        "elif(50>number):\n",
        "    print(\" your desire Grade is E\" ) \n",
        "\n",
        "else:\n",
        "    print(\" your desire Grade is F\" ) \n",
        "\n"
      ],
      "metadata": {
        "colab": {
          "base_uri": "https://localhost:8080/"
        },
        "id": "-SEYTvqaErUX",
        "outputId": "372765d7-36ec-4c73-82ee-052375802c32"
      },
      "execution_count": null,
      "outputs": [
        {
          "output_type": "stream",
          "name": "stdout",
          "text": [
            "enter your marks55\n",
            " your desire Grade is good A\n"
          ]
        }
      ]
    },
    {
      "cell_type": "markdown",
      "source": [
        "# ***Chapter 7 (loop)***"
      ],
      "metadata": {
        "id": "iNpZpAt1aYnR"
      }
    },
    {
      "cell_type": "code",
      "source": [],
      "metadata": {
        "id": "JrfF9FiVaj25"
      },
      "execution_count": null,
      "outputs": []
    },
    {
      "cell_type": "markdown",
      "source": [
        "**While Loop**"
      ],
      "metadata": {
        "id": "AP3GcZGof-N3"
      }
    },
    {
      "cell_type": "code",
      "source": [
        "i=0\n",
        "while(i<=5):\n",
        "  print('i am anzum')\n",
        "  i=i+1"
      ],
      "metadata": {
        "colab": {
          "base_uri": "https://localhost:8080/"
        },
        "id": "ZkwcrkWhgEAO",
        "outputId": "2911091c-0639-4cb4-deda-9c4f27c1795f"
      },
      "execution_count": null,
      "outputs": [
        {
          "output_type": "stream",
          "name": "stdout",
          "text": [
            "i am anzum\n",
            "i am anzum\n",
            "i am anzum\n",
            "i am anzum\n",
            "i am anzum\n",
            "i am anzum\n"
          ]
        }
      ]
    },
    {
      "cell_type": "code",
      "source": [
        "name=['anzum',\"roktim\", 'shazin', 'shornab', 'star']\n",
        "i=0\n",
        "while(i<len(name)):\n",
        "  print(name[i])\n",
        "  i=i+1\n"
      ],
      "metadata": {
        "colab": {
          "base_uri": "https://localhost:8080/"
        },
        "id": "s02bBsaUikG7",
        "outputId": "e13cc8ab-406c-4df1-c4ab-2744461b2d1b"
      },
      "execution_count": null,
      "outputs": [
        {
          "output_type": "stream",
          "name": "stdout",
          "text": [
            "anzum\n",
            "roktim\n",
            "shazin\n",
            "shornab\n",
            "star\n"
          ]
        }
      ]
    },
    {
      "cell_type": "markdown",
      "source": [
        "**For loop**"
      ],
      "metadata": {
        "id": "8aWCWM-Uj34Z"
      }
    },
    {
      "cell_type": "code",
      "source": [
        "name=['anzum',\"roktim\", 'shazin', 'shornab', 'star']\n",
        "for item in name:\n",
        "   print(item)"
      ],
      "metadata": {
        "colab": {
          "base_uri": "https://localhost:8080/"
        },
        "id": "11Ne77M1j7fL",
        "outputId": "553ac56a-c5d4-4081-fd01-eb09df3221a9"
      },
      "execution_count": null,
      "outputs": [
        {
          "output_type": "stream",
          "name": "stdout",
          "text": [
            "anzum\n",
            "roktim\n",
            "shazin\n",
            "shornab\n",
            "star\n"
          ]
        }
      ]
    },
    {
      "cell_type": "markdown",
      "source": [
        "*Range function in for loop*\n",
        "\n",
        "```\n",
        "```\n",
        "\n"
      ],
      "metadata": {
        "id": "b4nIJeo7p9YW"
      }
    },
    {
      "cell_type": "code",
      "source": [
        "for i in range(1,5):\n",
        " print(i)\n",
        "\n",
        "print(' my name is space')\n",
        "\n",
        "for i in range(8):\n",
        "   print(i)\n"
      ],
      "metadata": {
        "colab": {
          "base_uri": "https://localhost:8080/"
        },
        "id": "5_QhV2w8qHZA",
        "outputId": "9499a5d8-10ec-4383-aa6d-cb2bb1f43930"
      },
      "execution_count": null,
      "outputs": [
        {
          "output_type": "stream",
          "name": "stdout",
          "text": [
            "1\n",
            "2\n",
            "3\n",
            "4\n",
            " my name is space\n",
            "0\n",
            "1\n",
            "2\n",
            "3\n",
            "4\n",
            "5\n",
            "6\n",
            "7\n"
          ]
        }
      ]
    },
    {
      "cell_type": "code",
      "source": [],
      "metadata": {
        "id": "MXGWzVUIuP2k"
      },
      "execution_count": null,
      "outputs": []
    },
    {
      "cell_type": "markdown",
      "source": [
        "Break Statement"
      ],
      "metadata": {
        "id": "W12ytlwsvE26"
      }
    },
    {
      "cell_type": "code",
      "source": [
        "for i in range(9):\n",
        " print(i)\n",
        " if(i==5):\n",
        "  break\n",
        "\n",
        "else:\n",
        "  print('our break is done successfully')\n"
      ],
      "metadata": {
        "colab": {
          "base_uri": "https://localhost:8080/"
        },
        "id": "mJSG4UrSvIMX",
        "outputId": "dd6967a1-4baa-4b6c-ef45-8d65d72a7e1d"
      },
      "execution_count": null,
      "outputs": [
        {
          "output_type": "stream",
          "name": "stdout",
          "text": [
            "0\n",
            "1\n",
            "2\n",
            "3\n",
            "4\n",
            "5\n"
          ]
        }
      ]
    },
    {
      "cell_type": "markdown",
      "source": [
        "*Continue*"
      ],
      "metadata": {
        "id": "KxVuBo-gwVG1"
      }
    },
    {
      "cell_type": "code",
      "source": [
        "for i in range(9):\n",
        " \n",
        " if(i==5):\n",
        "  continue\n",
        "  print(i)\n",
        "\n",
        "else:\n",
        "  print('our break is done successfully')\n"
      ],
      "metadata": {
        "colab": {
          "base_uri": "https://localhost:8080/"
        },
        "id": "OPf0vq5mwbiI",
        "outputId": "a2bd7776-6962-4f72-d3ba-b6a002d8ff9d"
      },
      "execution_count": null,
      "outputs": [
        {
          "output_type": "stream",
          "name": "stdout",
          "text": [
            "our break is done successfully\n"
          ]
        }
      ]
    },
    {
      "cell_type": "markdown",
      "source": [
        "Pass statement"
      ],
      "metadata": {
        "id": "pjc1hKJHy69z"
      }
    },
    {
      "cell_type": "code",
      "source": [
        "i=0\n",
        "if(0<4):\n",
        "  pass\n",
        "\n",
        "  print('pass use korle mane hocceh stop baki kiso print hobe nah') \n"
      ],
      "metadata": {
        "colab": {
          "base_uri": "https://localhost:8080/"
        },
        "id": "OewJxP38y9Jj",
        "outputId": "fece4840-eeda-481f-988e-f40d33f0e214"
      },
      "execution_count": null,
      "outputs": [
        {
          "output_type": "stream",
          "name": "stdout",
          "text": [
            "pass use korle mane hocceh stop baki kiso print hobe nah\n"
          ]
        }
      ]
    },
    {
      "cell_type": "markdown",
      "source": [
        "***Loop Practice***"
      ],
      "metadata": {
        "id": "PbxWfUbwPLlL"
      }
    },
    {
      "cell_type": "code",
      "source": [
        "# write e programe for multiplications\n",
        "\n",
        "\n",
        "#first way to solve the problem\n",
        "a=int(input('enter your number please kindly'))\n",
        "for i in range(1,11):\n",
        " #print(str(a)+'x'+ str(i)+  '='  +str(i*a)) \n",
        "\n",
        "\n",
        "\n",
        " #second way to how we solve multiplication problem\n",
        " print(f\"{a}x{i}={a*i}\")"
      ],
      "metadata": {
        "id": "tVvmz8K1PR6x",
        "colab": {
          "base_uri": "https://localhost:8080/"
        },
        "outputId": "25d01763-ac45-4714-a15b-5177d43f9bd6"
      },
      "execution_count": null,
      "outputs": [
        {
          "output_type": "stream",
          "name": "stdout",
          "text": [
            "enter your number please kindly5\n",
            "5x1=5\n",
            "5x2=10\n",
            "5x3=15\n",
            "5x4=20\n",
            "5x5=25\n",
            "5x6=30\n",
            "5x7=35\n",
            "5x8=40\n",
            "5x9=45\n",
            "5x10=50\n"
          ]
        }
      ]
    },
    {
      "cell_type": "code",
      "source": [
        "# check your name is the list or not usisng loop \n",
        "\n",
        "\n",
        "l='anzum' ,'ahnaf', 'ahmed', 'roktim', 'sharon'\n",
        "for name in l:\n",
        "  if name.startswith('a'):\n",
        "    print('hello world i am' +'' +name)"
      ],
      "metadata": {
        "colab": {
          "base_uri": "https://localhost:8080/"
        },
        "id": "yzM-ADzOQSON",
        "outputId": "99eb714b-5214-4091-ce44-20456ae06f29"
      },
      "execution_count": null,
      "outputs": [
        {
          "output_type": "stream",
          "name": "stdout",
          "text": [
            "hello world i amanzum\n",
            "hello world i amahnaf\n",
            "hello world i amahmed\n"
          ]
        }
      ]
    },
    {
      "cell_type": "code",
      "source": [
        "#check it is prime number or not \n",
        "\n",
        "num =int(input('please enter your number'))\n",
        "prime=True\n",
        "for i in range(2, num):\n",
        "   if(num%i==0):\n",
        "    prime=False\n",
        "    break\n",
        "    if prime:\n",
        "      print('this number is  prime')\n",
        "    else:\n",
        "        print('this number is not prime')"
      ],
      "metadata": {
        "colab": {
          "base_uri": "https://localhost:8080/"
        },
        "id": "-6b7Fo2Tcc40",
        "outputId": "4a000290-0fe3-45c7-eff8-c31acb9abb73"
      },
      "execution_count": null,
      "outputs": [
        {
          "name": "stdout",
          "output_type": "stream",
          "text": [
            "please enter your number100\n"
          ]
        }
      ]
    },
    {
      "cell_type": "code",
      "source": [
        "#factorial number \n",
        "\n",
        "#5!=1*2*3*4*5\n",
        "\n",
        "num=int(input('please enter your number'))\n",
        "factorial=1\n",
        "for i in range(1, num+1):\n",
        "  factorial=factorial*i\n",
        "print(f\"the number of factorial is {factorial}\")\n",
        "\n"
      ],
      "metadata": {
        "colab": {
          "base_uri": "https://localhost:8080/"
        },
        "id": "oFQb_XhljAzt",
        "outputId": "03ecc125-0c8d-4a0d-a1f7-4135e1343edc"
      },
      "execution_count": null,
      "outputs": [
        {
          "output_type": "stream",
          "name": "stdout",
          "text": [
            "please enter your number4\n",
            "the number of factorial is 24\n"
          ]
        }
      ]
    },
    {
      "cell_type": "code",
      "source": [
        "# *\n",
        "# **\n",
        "# ***  \n",
        "\n",
        "n=4\n",
        "for i in range(4):\n",
        "   print('*' * (i+1))\n"
      ],
      "metadata": {
        "colab": {
          "base_uri": "https://localhost:8080/"
        },
        "id": "58D_nnCnlUtT",
        "outputId": "6cb17419-d504-40bb-e835-5cad41f4ddd1"
      },
      "execution_count": null,
      "outputs": [
        {
          "output_type": "stream",
          "name": "stdout",
          "text": [
            "*\n",
            "**\n",
            "***\n",
            "****\n"
          ]
        }
      ]
    },
    {
      "cell_type": "markdown",
      "source": [
        "***Chapter-8 (Function and Recursion)***"
      ],
      "metadata": {
        "id": "QWd3VCU_qghP"
      }
    },
    {
      "cell_type": "code",
      "source": [
        "def great(name):\n",
        "  print('my name is ' + name)\n",
        " \n",
        "def age(num1,num2):\n",
        "   return num1+num2\n",
        "\n",
        "great('ahnaf')\n",
        "ok=age(11,12)\n",
        "print(ok)"
      ],
      "metadata": {
        "colab": {
          "base_uri": "https://localhost:8080/"
        },
        "id": "a-ucga4DDPWo",
        "outputId": "0ec6877a-ef19-4c34-d3eb-63a3844b0e51"
      },
      "execution_count": null,
      "outputs": [
        {
          "output_type": "stream",
          "name": "stdout",
          "text": [
            "my name is ahnaf\n",
            "23\n"
          ]
        }
      ]
    },
    {
      "cell_type": "markdown",
      "source": [
        "Default peramitter value"
      ],
      "metadata": {
        "id": "WGqbx7mbL5-S"
      }
    },
    {
      "cell_type": "code",
      "source": [
        "def great(name=' roktim'):\n",
        "  print('my name is ' + name)\n",
        "\n",
        "great('ahnaf')\n",
        "great()"
      ],
      "metadata": {
        "colab": {
          "base_uri": "https://localhost:8080/"
        },
        "id": "MSv01YqlL43S",
        "outputId": "819c0f2d-c9f4-45a6-a1ba-27468f54c58a"
      },
      "execution_count": null,
      "outputs": [
        {
          "output_type": "stream",
          "name": "stdout",
          "text": [
            "my name is ahnaf\n",
            "my name is  roktim\n"
          ]
        }
      ]
    },
    {
      "cell_type": "markdown",
      "source": [
        "factorial with function"
      ],
      "metadata": {
        "id": "Wy4MEgWFTkmj"
      }
    },
    {
      "cell_type": "code",
      "source": [
        "def factorialfunction(n):\n",
        "  product=1\n",
        "  for i in range (n):\n",
        "    product=product*(i+1)\n",
        "    return product\n",
        "\n",
        "    f=factorialfunction(0)\n",
        "    print(f)"
      ],
      "metadata": {
        "id": "_zC4FsaHTnLL"
      },
      "execution_count": null,
      "outputs": []
    },
    {
      "cell_type": "markdown",
      "source": [
        "**function practice**"
      ],
      "metadata": {
        "id": "FJMDnH31AcI0"
      }
    },
    {
      "cell_type": "code",
      "source": [
        "def maximum(num1, num2, num3):\n",
        "    if (num1>num2):\n",
        "        if(num1>num3):\n",
        "            return num1\n",
        "        else:\n",
        "            return num3\n",
        "    else:\n",
        "        if(num2>num3):\n",
        "            return num2\n",
        "        else:\n",
        "            return num3\n",
        "\n",
        "m = maximum(13, 55, 2)\n",
        "print(\"The value of the maximum is \" + str(m))\n",
        "     \n",
        "\n",
        "\n"
      ],
      "metadata": {
        "colab": {
          "base_uri": "https://localhost:8080/"
        },
        "id": "kJsdg7-lAhME",
        "outputId": "4c4a7bcf-9edc-458c-fbca-c4923ecb55fc"
      },
      "execution_count": null,
      "outputs": [
        {
          "output_type": "stream",
          "name": "stdout",
          "text": [
            "The value of the maximum is 55\n"
          ]
        }
      ]
    },
    {
      "cell_type": "code",
      "source": [
        "# Celsius to Fahrenheit Converter\n",
        "#F=(°C×9/5)+32\n",
        "\n",
        "def farh(cel)\n",
        "\n",
        "\n"
      ],
      "metadata": {
        "id": "uAzCIxRqz75l"
      },
      "execution_count": null,
      "outputs": []
    }
  ],
  "metadata": {
    "colab": {
      "provenance": [],
      "toc_visible": true,
      "collapsed_sections": [
        "ToeZfyCMwWjj",
        "ctYYktdqVo-j"
      ],
      "include_colab_link": true
    },
    "kernelspec": {
      "display_name": "Python 3",
      "name": "python3"
    }
  },
  "nbformat": 4,
  "nbformat_minor": 0
}