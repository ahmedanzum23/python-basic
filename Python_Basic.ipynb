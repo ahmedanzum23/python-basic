{
  "cells": [
    {
      "cell_type": "markdown",
      "metadata": {
        "id": "view-in-github",
        "colab_type": "text"
      },
      "source": [
        "<a href=\"https://colab.research.google.com/github/ahmedanzum23/python-basic/blob/main/Python_Basic.ipynb\" target=\"_parent\"><img src=\"https://colab.research.google.com/assets/colab-badge.svg\" alt=\"Open In Colab\"/></a>"
      ]
    },
    {
      "cell_type": "markdown",
      "source": [
        "**Chapter-2 (Variable and data types)**"
      ],
      "metadata": {
        "id": "lA96fGZwH3iU"
      }
    },
    {
      "cell_type": "code",
      "source": [
        "#Arethmatic operator\n",
        "a=40\n",
        "b=30\n",
        "print(' the value of a+b is', 40+30)\n",
        "print(' the value of a-b is', 40-30)\n",
        "print(' the value of a*b is', 40*30)\n",
        "print(' the value of a/b is', 40/30)"
      ],
      "metadata": {
        "colab": {
          "base_uri": "https://localhost:8080/"
        },
        "id": "U-VsJiDrlTXH",
        "outputId": "b64cba78-ebda-412b-c899-e28405f9d115"
      },
      "execution_count": null,
      "outputs": [
        {
          "output_type": "stream",
          "name": "stdout",
          "text": [
            " the value of a+b is 70\n",
            " the value of a-b is 10\n",
            " the value of a*b is 1200\n",
            " the value of a/b is 1.3333333333333333\n"
          ]
        }
      ]
    },
    {
      "cell_type": "code",
      "source": [
        "#assignment operations\n",
        "a=100\n",
        "a+=20\n",
        "a-=20\n",
        "a *=2\n",
        "a/=100\n",
        "\n",
        "print(a)"
      ],
      "metadata": {
        "colab": {
          "base_uri": "https://localhost:8080/"
        },
        "id": "uBZKcrCrJfYl",
        "outputId": "2e5cd5fe-0441-4d18-8798-9fa9b5a4c50c"
      },
      "execution_count": null,
      "outputs": [
        {
          "output_type": "stream",
          "name": "stdout",
          "text": [
            "2.0\n"
          ]
        }
      ]
    },
    {
      "cell_type": "code",
      "source": [
        "# **comparision**\n",
        "a=14<7\n",
        "b=14>7\n",
        "c=14>=7\n",
        "d=14<=7\n",
        "e=14==14\n",
        "f= 14!=7\n",
        "print(a)\n",
        "print(b)\n",
        "print(c)\n",
        "print(d)\n",
        "print(e)\n",
        "print(f)"
      ],
      "metadata": {
        "colab": {
          "base_uri": "https://localhost:8080/"
        },
        "id": "QuJkyB60Jo8E",
        "outputId": "83a3a2a0-4a27-4ace-fa1b-6e57cef329ab"
      },
      "execution_count": null,
      "outputs": [
        {
          "output_type": "stream",
          "name": "stdout",
          "text": [
            "False\n",
            "True\n",
            "True\n",
            "False\n",
            "True\n",
            "True\n"
          ]
        }
      ]
    },
    {
      "cell_type": "code",
      "source": [
        "#logical operations\n",
        "bol1= True\n",
        "bol2= False\n",
        "print('the result of booleans are ', bol1 and bol2)\n",
        "print('the result of booleans are ', bol1 or bol2)\n",
        "print('the result of booleans are ', not bol2)"
      ],
      "metadata": {
        "colab": {
          "base_uri": "https://localhost:8080/"
        },
        "id": "Dg8jm53VHyXz",
        "outputId": "f621e568-a2bf-40d6-ee5a-9362ffd4d83b"
      },
      "execution_count": 4,
      "outputs": [
        {
          "output_type": "stream",
          "name": "stdout",
          "text": [
            "the result of booleans are  False\n",
            "the result of booleans are  True\n",
            "the result of booleans are  True\n"
          ]
        }
      ]
    },
    {
      "cell_type": "code",
      "source": [
        "#type casting (convert one formet to another like string to int)\n",
        "a='100'\n",
        "a=int(a)\n",
        "print(a+100)\n",
        "print(type(a))\n",
        "b=19101403\n",
        "b=str(b)\n",
        "print(b+'anzum')\n",
        "print(type(b))\n",
        "c=2\n",
        "c=float(c)\n",
        "print(c+4)\n",
        "print(type(c))"
      ],
      "metadata": {
        "colab": {
          "base_uri": "https://localhost:8080/"
        },
        "id": "bgGpiqe5Ixcn",
        "outputId": "8a725638-6096-4562-d5f3-e51d07f233de"
      },
      "execution_count": 13,
      "outputs": [
        {
          "output_type": "stream",
          "name": "stdout",
          "text": [
            "200\n",
            "<class 'int'>\n",
            "19101403anzum\n",
            "<class 'str'>\n",
            "6.0\n",
            "<class 'float'>\n"
          ]
        }
      ]
    },
    {
      "cell_type": "code",
      "source": [
        "#input \n",
        "a=input('enter your name please  :', )\n",
        "a=int(a) #connvert string to int \n",
        "print(a)\n"
      ],
      "metadata": {
        "colab": {
          "base_uri": "https://localhost:8080/"
        },
        "id": "4oowLY42SQaJ",
        "outputId": "ee11d4a3-f303-4ed9-9d8b-5341f6d7d427"
      },
      "execution_count": 22,
      "outputs": [
        {
          "output_type": "stream",
          "name": "stdout",
          "text": [
            "enter your name please  :4\n",
            "4\n"
          ]
        }
      ]
    },
    {
      "cell_type": "markdown",
      "source": [
        "### *Problem solving for variable and data type*\n"
      ],
      "metadata": {
        "id": "8ZTAqzcFdPJ2"
      }
    },
    {
      "cell_type": "code",
      "source": [
        "#problem solving part-1 for variable and data type chapter\n",
        "\n",
        "#write a programe for add two number\n",
        "\n",
        "a=input('enter your first number')\n",
        "a=int(a)\n",
        "b=input('enter your second number')\n",
        "b=int(b)\n",
        "print('Result of your number is :', a+b)"
      ],
      "metadata": {
        "colab": {
          "base_uri": "https://localhost:8080/"
        },
        "id": "mg3Wd56icYdG",
        "outputId": "a881bfc8-d71c-4f0c-c412-d6287cf051b7"
      },
      "execution_count": 23,
      "outputs": [
        {
          "output_type": "stream",
          "name": "stdout",
          "text": [
            "enter your first number10\n",
            "enter your second number10\n",
            "Result of your number is : 20\n"
          ]
        }
      ]
    },
    {
      "cell_type": "code",
      "source": [
        "#p-2\n",
        "#find a reminder when number is divided by 2\n",
        "a=10\n",
        "b=20\n",
        "number=(a%b)\n",
        "print(\"so the reminder is\", number)\n",
        "\n",
        "\n",
        "#p-3\n",
        "#find a comparision between a is greater then b or not , assume a=34 b=80\n",
        "a=34\n",
        "b=80\n",
        "print('The result of a is :', a>b)\n",
        "\n",
        "\n",
        "#p-3\n",
        "#calculate the square of a number enter by the user\n",
        "a=input('enter your number')\n",
        "a=int(a)\n",
        "\n",
        "calculate=a**a\n",
        "print('the result is :', calculate)\n",
        "\n"
      ],
      "metadata": {
        "colab": {
          "base_uri": "https://localhost:8080/"
        },
        "id": "iFrB_1nLfAL0",
        "outputId": "c11f424e-2567-41f6-b25a-d1c3109b1eac"
      },
      "execution_count": 28,
      "outputs": [
        {
          "output_type": "stream",
          "name": "stdout",
          "text": [
            "so the reminder is 10\n",
            "The result of a is : False\n",
            "enter your number2\n",
            "the result is : 4\n"
          ]
        }
      ]
    }
  ],
  "metadata": {
    "colab": {
      "toc_visible": true,
      "provenance": [],
      "include_colab_link": true
    },
    "kernelspec": {
      "display_name": "Python 3",
      "name": "python3"
    }
  },
  "nbformat": 4,
  "nbformat_minor": 0
}